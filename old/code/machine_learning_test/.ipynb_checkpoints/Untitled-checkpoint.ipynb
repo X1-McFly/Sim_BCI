{
 "cells": [
  {
   "cell_type": "code",
   "execution_count": null,
   "id": "28662685-f4e0-4437-9ef9-49218df71db5",
   "metadata": {},
   "outputs": [],
   "source": [
    "from sklearn.linear_model import LinearRegression\n",
    "import matplotlib.pyplot as plt\n",
    "import numpy as np\n",
    "import random\n",
    "import math"
   ]
  },
  {
   "cell_type": "code",
   "execution_count": null,
   "id": "2bcb4954-ed51-4d19-865e-f8ebeac07566",
   "metadata": {},
   "outputs": [],
   "source": [
    "x = []\n",
    "y = []\n",
    "\n",
    "for i in range(1000):\n",
    "    x.append(i)\n",
    "    y.append(5 * math.sin(x[i]))\n",
    "plt.scatter(x, y)\n",
    "    #plt.pause(0.001)\n",
    "\n",
    "plt.show()\n"
   ]
  },
  {
   "cell_type": "code",
   "execution_count": null,
   "id": "5bdd03ba-1859-4ebf-b716-c70244f1bdd3",
   "metadata": {},
   "outputs": [],
   "source": []
  }
 ],
 "metadata": {
  "kernelspec": {
   "display_name": "Python 3 (ipykernel)",
   "language": "python",
   "name": "python3"
  },
  "language_info": {
   "codemirror_mode": {
    "name": "ipython",
    "version": 3
   },
   "file_extension": ".py",
   "mimetype": "text/x-python",
   "name": "python",
   "nbconvert_exporter": "python",
   "pygments_lexer": "ipython3",
   "version": "3.10.12"
  }
 },
 "nbformat": 4,
 "nbformat_minor": 5
}
